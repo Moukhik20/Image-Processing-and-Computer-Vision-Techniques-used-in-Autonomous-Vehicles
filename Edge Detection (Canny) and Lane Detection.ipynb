{
 "cells": [
  {
   "cell_type": "markdown",
   "id": "f80c86ee",
   "metadata": {},
   "source": [
    "**Image Processing Project Image Processing and Computer Vision Techniques used in Autonomous Vehicles**"
   ]
  },
  {
   "cell_type": "markdown",
   "id": "84ca57b1",
   "metadata": {},
   "source": [
    "**Canny Edge Detection**"
   ]
  },
  {
   "cell_type": "code",
   "execution_count": 1,
   "id": "bc337f04",
   "metadata": {},
   "outputs": [],
   "source": [
    "import matplotlib.image as mpimg\n",
    "import matplotlib.pyplot as plt\n",
    "import numpy as np\n",
    "import os\n",
    "import cv2"
   ]
  },
  {
   "cell_type": "code",
   "execution_count": 2,
   "id": "527873de",
   "metadata": {},
   "outputs": [],
   "source": [
    "import cv2 \n",
    "image = cv2.imread('car.jpg')\n",
    "cv2.imshow('Car', image)\n",
    "cv2.waitKey()\n",
    "cv2.destroyAllWindows()"
   ]
  },
  {
   "cell_type": "markdown",
   "id": "2a36cf6a",
   "metadata": {},
   "source": [
    "**Converting to grayscale**"
   ]
  },
  {
   "cell_type": "code",
   "execution_count": 3,
   "id": "7b62bf25",
   "metadata": {},
   "outputs": [
    {
     "data": {
      "text/plain": [
       "(554, 1024, 3)"
      ]
     },
     "execution_count": 3,
     "metadata": {},
     "output_type": "execute_result"
    }
   ],
   "source": [
    "image.shape"
   ]
  },
  {
   "cell_type": "code",
   "execution_count": 4,
   "id": "084720ad",
   "metadata": {},
   "outputs": [],
   "source": [
    "img = cv2.cvtColor(image, cv2.COLOR_BGR2GRAY)\n",
    "cv2.imshow('Car in Grayscale', img)\n",
    "cv2.waitKey()\n",
    "cv2.destroyAllWindows()"
   ]
  },
  {
   "cell_type": "markdown",
   "id": "43e4a9f4",
   "metadata": {},
   "source": [
    "**Canny Edge Detection**"
   ]
  },
  {
   "cell_type": "code",
   "execution_count": null,
   "id": "8da35189",
   "metadata": {},
   "outputs": [],
   "source": [
    "def Canny_detector(img, weak_th = None, strong_th = None):\n",
    "    img = cv2.cvtColor(img, cv2.COLOR_BGR2GRAY)\n",
    "    img = cv2.GaussianBlur(img, (5, 5), 1.4)\n",
    "    gx = cv2.Sobel(np.float32(img), cv2.CV_64F, 1, 0, 3)\n",
    "    gy = cv2.Sobel(np.float32(img), cv2.CV_64F, 0, 1, 3)\n",
    "    mag, ang = cv2.cartToPolar(gx, gy, angleInDegrees = True)\n",
    "    mag_max = np.max(mag)\n",
    "    if not weak_th:weak_th = mag_max * 0.1\n",
    "    if not strong_th:strong_th = mag_max * 0.5\n",
    "    \n",
    "    height, width = img.shape\n",
    "    \n",
    "    for i_x in range(width):\n",
    "        for i_y in range(height):\n",
    "            grad_ang = ang[i_y, i_x]\n",
    "            grad_ang = abs(grad_ang-180) if abs(grad_ang)>180 else abs(grad_ang)\n",
    "            \n",
    "            if grad_ang<= 22.5:\n",
    "                neighb_1_x, neighb_1_y = i_x-1, i_y\n",
    "                neighb_2_x, neighb_2_y = i_x + 1, i_y\n",
    "            \n",
    "            elif grad_ang>22.5 and grad_ang<=(22.5 + 45):\n",
    "                neighb_1_x, neighb_1_y = i_x-1, i_y-1\n",
    "                neighb_2_x, neighb_2_y = i_x + 1, i_y + 1\n",
    "            \n",
    "            elif grad_ang>(22.5 + 45) and grad_ang<=(22.5 + 90):\n",
    "                neighb_1_x, neighb_1_y = i_x, i_y-1\n",
    "                neighb_2_x, neighb_2_y = i_x, i_y + 1\n",
    "                \n",
    "            elif grad_ang>(22.5 + 90) and grad_ang<=(22.5 + 135):\n",
    "                neighb_1_x, neighb_1_y = i_x-1, i_y + 1\n",
    "                neighb_2_x, neighb_2_y = i_x + 1, i_y-1\n",
    "                \n",
    "            elif grad_ang>(22.5 + 135) and grad_ang<=(22.5 + 180):\n",
    "                neighb_1_x, neighb_1_y = i_x-1, i_y\n",
    "                neighb_2_x, neighb_2_y = i_x + 1, i_y\n",
    "            \n",
    "            if width>neighb_1_x>= 0 and height>neighb_1_y>= 0:\n",
    "                if mag[i_y, i_x]<mag[neighb_1_y, neighb_1_x]:\n",
    "                    mag[i_y, i_x]= 0\n",
    "                    continue\n",
    "            \n",
    "            if width>neighb_2_x>= 0 and height>neighb_2_y>= 0:\n",
    "                if mag[i_y, i_x]<mag[neighb_2_y, neighb_2_x]:\n",
    "                    mag[i_y, i_x]= 0\n",
    "            \n",
    "    weak_ids = np.zeros_like(img)\n",
    "    strong_ids = np.zeros_like(img)\n",
    "    ids = np.zeros_like(img)\n",
    "    \n",
    "    for i_x in range(width):\n",
    "        for i_y in range(height):\n",
    "            grad_mag = mag[i_y, i_x]\n",
    "            \n",
    "            if grad_mag<weak_th:\n",
    "                mag[i_y, i_x]= 0\n",
    "                \n",
    "            elif strong_th>grad_mag>= weak_th:\n",
    "                ids[i_y, i_x]= 1\n",
    "                \n",
    "            else:\n",
    "                ids[i_y, i_x]= 2\n",
    "                \n",
    "    return mag\n",
    "\n",
    "canny_img = Canny_detector(image)\n",
    "cv2.imshow('Original Image', image)\n",
    "cv2.imshow('Canny Edge Detection', canny_img)\n",
    "cv2.waitKey()\n",
    "cv2.destroyAllWindows()\n",
    "                \n",
    "            \n",
    "        \n",
    "    \n",
    "    \n",
    "                    \n",
    "            \n",
    "            \n",
    "        "
   ]
  },
  {
   "cell_type": "markdown",
   "id": "9ee7710b",
   "metadata": {},
   "source": [
    "**Canny Edge Detection with Webcam Feed**"
   ]
  },
  {
   "cell_type": "code",
   "execution_count": null,
   "id": "e601dcb8",
   "metadata": {},
   "outputs": [],
   "source": [
    "import cv2\n",
    "import numpy as np\n",
    "def Webcam_Canny(image_color):\n",
    "            \n",
    "    threshold1 = 30\n",
    "    threshold2 = 100\n",
    "    image_gray = cv2.cvtColor(image_color, cv2.COLOR_BGR2GRAY)\n",
    "    canny = cv2.Canny(image_gray, threshold1, threshold2)  \n",
    "    return canny"
   ]
  },
  {
   "cell_type": "code",
   "execution_count": null,
   "id": "da1015f7",
   "metadata": {},
   "outputs": [],
   "source": [
    "cap = cv2.VideoCapture(0)\n",
    "\n",
    "while True:\n",
    "    ret, vid = cap.read()\n",
    "    cv2.imshow('Live Edge Detection', Webcam_Canny(vid))\n",
    "    #cv2.imshow('Webcam Video', vid)\n",
    "    if cv2.waitKey(1) == 13: #Enter Key to exit\n",
    "        break\n",
    "        \n",
    "cap.release()\n",
    "cv2.destroyAllWindows()"
   ]
  },
  {
   "cell_type": "markdown",
   "id": "444562fc",
   "metadata": {},
   "source": [
    "# Lane Detection using Hough Transform"
   ]
  },
  {
   "cell_type": "code",
   "execution_count": null,
   "id": "38661e03",
   "metadata": {},
   "outputs": [],
   "source": [
    "import matplotlib.pyplot as plt\n",
    "import numpy as np\n",
    "import cv2\n",
    "import matplotlib.image as mpimg"
   ]
  },
  {
   "cell_type": "code",
   "execution_count": null,
   "id": "7ff06d83",
   "metadata": {},
   "outputs": [],
   "source": [
    "image_c = mpimg.imread('lane_detect.jpg')\n",
    "plt.imshow(image_c)  \n",
    "image_c.shape"
   ]
  },
  {
   "cell_type": "code",
   "execution_count": null,
   "id": "6aa869b4",
   "metadata": {},
   "outputs": [],
   "source": [
    "image_g = cv2.cvtColor(image_c, cv2.COLOR_RGB2GRAY)\n",
    "plt.imshow(image_g, cmap = 'gray')  \n",
    "image_g.shape"
   ]
  },
  {
   "cell_type": "code",
   "execution_count": null,
   "id": "f0963e8b",
   "metadata": {},
   "outputs": [],
   "source": [
    "image_blurred = cv2.GaussianBlur(image_g, (7, 7), 0)\n",
    "plt.imshow(image_blurred)  "
   ]
  },
  {
   "cell_type": "code",
   "execution_count": null,
   "id": "cd20bf03",
   "metadata": {},
   "outputs": [],
   "source": [
    "threshold_low = 10\n",
    "threshold_high = 200\n",
    "image_canny = cv2.Canny(image_blurred, threshold_low, threshold_high)\n",
    "plt.imshow(image_canny, cmap = 'gray')  "
   ]
  },
  {
   "cell_type": "markdown",
   "id": "fd9298bd",
   "metadata": {},
   "source": [
    "**Region of Interest**"
   ]
  },
  {
   "cell_type": "code",
   "execution_count": null,
   "id": "7a0dc63b",
   "metadata": {},
   "outputs": [],
   "source": [
    "vertices = np.array([[(20,460),(340, 300), (460, 300), (740,460)]], dtype=np.int32)  \n",
    "#vertices = np.array([[(200,550),(250, 180), (550, 180), (700,550)]], dtype=np.int32)  \n",
    "mask = np.zeros_like(image_g)   \n",
    "cv2.fillPoly(mask, vertices, 255)\n",
    "masked_image = cv2.bitwise_and(image_g, mask)\n",
    "plt.figure()\n",
    "plt.imshow(masked_image)"
   ]
  },
  {
   "cell_type": "code",
   "execution_count": null,
   "id": "52791029",
   "metadata": {},
   "outputs": [],
   "source": [
    "masked_image = cv2.bitwise_and(image_canny, mask)\n",
    "plt.figure()\n",
    "plt.imshow(masked_image)"
   ]
  },
  {
   "cell_type": "code",
   "execution_count": null,
   "id": "d72e712c",
   "metadata": {},
   "outputs": [],
   "source": [
    "rho = 2             \n",
    "theta = np.pi/180  \n",
    "threshold = 40     \n",
    "min_line_len = 100 \n",
    "max_line_gap = 50  \n",
    "lines = cv2.HoughLinesP(masked_image, rho, theta, threshold, np.array([]), minLineLength=min_line_len, maxLineGap=max_line_gap)\n",
    "    \n",
    "\n",
    "line_image = np.zeros((masked_image.shape[0], masked_image.shape[1], 3), dtype=np.uint8)\n",
    "    \n",
    "for line in lines:\n",
    "    for x1,y1,x2,y2 in line:      \n",
    "        cv2.line(line_image, (x1, y1), (x2, y2), [255, 0, 0], 20)\n",
    "lines "
   ]
  },
  {
   "cell_type": "code",
   "execution_count": null,
   "id": "792e379f",
   "metadata": {},
   "outputs": [],
   "source": [
    "α = 1\n",
    "β = 1\n",
    "γ = 0    \n",
    "Image_with_lines = cv2.addWeighted(image_c, α, line_image, β, γ)"
   ]
  },
  {
   "cell_type": "code",
   "execution_count": null,
   "id": "80624c38",
   "metadata": {},
   "outputs": [],
   "source": [
    "plt.figure()\n",
    "plt.imshow(Image_with_lines)\n",
    "cv2.imshow('Lane Detected', Image_with_lines)\n",
    "cv2.waitKey()\n",
    "cv2.destroyAllWindows()"
   ]
  },
  {
   "cell_type": "code",
   "execution_count": null,
   "id": "3b817fc3",
   "metadata": {},
   "outputs": [],
   "source": []
  },
  {
   "cell_type": "code",
   "execution_count": null,
   "id": "2ac71053",
   "metadata": {},
   "outputs": [],
   "source": []
  }
 ],
 "metadata": {
  "kernelspec": {
   "display_name": "Python 3",
   "language": "python",
   "name": "python3"
  },
  "language_info": {
   "codemirror_mode": {
    "name": "ipython",
    "version": 3
   },
   "file_extension": ".py",
   "mimetype": "text/x-python",
   "name": "python",
   "nbconvert_exporter": "python",
   "pygments_lexer": "ipython3",
   "version": "3.8.8"
  }
 },
 "nbformat": 4,
 "nbformat_minor": 5
}
